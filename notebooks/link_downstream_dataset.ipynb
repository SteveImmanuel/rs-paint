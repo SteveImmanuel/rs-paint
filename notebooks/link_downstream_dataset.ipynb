{
 "cells": [
  {
   "cell_type": "code",
   "execution_count": 1,
   "metadata": {},
   "outputs": [],
   "source": [
    "from PIL import Image\n",
    "import numpy as np\n",
    "import os\n",
    "import glob\n",
    "import shutil\n",
    "import hashlib\n",
    "import time"
   ]
  },
  {
   "cell_type": "code",
   "execution_count": 10,
   "metadata": {},
   "outputs": [
    {
     "name": "stdout",
     "output_type": "stream",
     "text": [
      "/home/hjh/rs-paint\n"
     ]
    }
   ],
   "source": [
    "%cd /home/hjh/rs-paint"
   ]
  },
  {
   "cell_type": "code",
   "execution_count": 18,
   "metadata": {},
   "outputs": [],
   "source": [
    "def symlink(src, dst):\n",
    "    if os.path.islink(dst):\n",
    "        os.unlink(dst)\n",
    "    os.symlink(src, dst)\n",
    "\n",
    "def reset_link(class_dir):\n",
    "    for path in glob.glob(f'/home/hjh/rs-paint/dataset/{class_dir}/*/*/*'):\n",
    "        os.unlink(path)"
   ]
  },
  {
   "cell_type": "code",
   "execution_count": 20,
   "metadata": {},
   "outputs": [],
   "source": [
    "def create_dataset(class_dir):\n",
    "    outdir = f'/home/hjh/rs-paint/dataset/{class_dir}'\n",
    "\n",
    "    os.makedirs(outdir, exist_ok=True)\n",
    "    for split in ['cp_train', 'train', 'val']:\n",
    "        os.makedirs(f'{outdir}/{split}/images', exist_ok=True)\n",
    "        os.makedirs(f'{outdir}/{split}/labels', exist_ok=True)\n",
    "        os.makedirs(f'{outdir}/{split}/labels_bbox', exist_ok=True)\n",
    "        os.makedirs(f'{outdir}/{split}/labels_png', exist_ok=True)\n",
    "\n",
    "    for path in glob.glob(f'/home/hjh/rs-paint/dataset/fewshotset/{class_dir}/support/*.png'):\n",
    "        if path.endswith('_m.png'):\n",
    "            continue\n",
    "\n",
    "        basefilename = os.path.basename(path)\n",
    "        basefilename = os.path.splitext(basefilename)[0]\n",
    "        data = basefilename + str(time.time())\n",
    "        unique_id = hashlib.md5(data.encode()).hexdigest()\n",
    "        filename = f'{unique_id}_{basefilename}'\n",
    "        symlink(path, f'{outdir}/val/images/{filename}.png')\n",
    "        symlink(path.replace('.png', '_m.png'), f'{outdir}/val/labels_png/{filename}.png')\n",
    "        symlink(path.replace('.png', '_m.txt'), f'{outdir}/val/labels/{filename}.txt')\n",
    "        symlink(path.replace('.png', '_bbox.txt'), f'{outdir}/val/labels_bbox/{filename}.txt')\n",
    "\n",
    "    for path in glob.glob(f'/home/hjh/rs-paint/dataset/fewshotset/{class_dir}/additional/*/variations/*.png'):\n",
    "        if path.endswith('_m.png'):\n",
    "            continue\n",
    "\n",
    "        basefilename = os.path.basename(path)\n",
    "        basefilename = os.path.splitext(basefilename)[0]\n",
    "        data = basefilename + str(time.time())\n",
    "        unique_id = hashlib.md5(data.encode()).hexdigest()\n",
    "        filename = f'{unique_id}_{basefilename}'\n",
    "        symlink(path, f'{outdir}/train/images/{filename}.png')\n",
    "        symlink(path.replace('.png', '_m.png'), f'{outdir}/train/labels_png/{filename}.png')\n",
    "        symlink(path.replace('.png', '_m.txt'), f'{outdir}/train/labels/{filename}.txt')\n",
    "        symlink(path.replace('.png', '_bbox.txt'), f'{outdir}/train/labels_bbox/{filename}.txt')\n",
    "\n",
    "    for path in glob.glob(f'/home/hjh/rs-paint/dataset/fewshotset/{class_dir}/additional/*/cp_variations/*.png'):\n",
    "        if path.endswith('_m.png'):\n",
    "            continue\n",
    "\n",
    "        basefilename = os.path.basename(path)\n",
    "        basefilename = os.path.splitext(basefilename)[0]\n",
    "        data = basefilename + str(time.time())\n",
    "        unique_id = hashlib.md5(data.encode()).hexdigest()\n",
    "        filename = f'{unique_id}_{basefilename}'\n",
    "        symlink(path, f'{outdir}/cp_train/images/{filename}.png')\n",
    "        symlink(path.replace('.png', '_m.png'), f'{outdir}/cp_train/labels_png/{filename}.png')\n",
    "        symlink(path.replace('.png', '_m.txt'), f'{outdir}/cp_train/labels/{filename}.txt')\n",
    "        symlink(path.replace('.png', '_bbox.txt'), f'{outdir}/cp_train/labels_bbox/{filename}.txt')"
   ]
  },
  {
   "cell_type": "code",
   "execution_count": 21,
   "metadata": {},
   "outputs": [],
   "source": [
    "reset_link('boat')\n",
    "reset_link('bridge')\n",
    "reset_link('sportsfield')\n",
    "reset_link('agriculture land')\n",
    "\n",
    "create_dataset('boat')\n",
    "create_dataset('bridge')\n",
    "create_dataset('sportsfield')\n",
    "create_dataset('agriculture land')"
   ]
  }
 ],
 "metadata": {
  "kernelspec": {
   "display_name": "rspaint",
   "language": "python",
   "name": "rspaint"
  }
 },
 "nbformat": 4,
 "nbformat_minor": 2
}
