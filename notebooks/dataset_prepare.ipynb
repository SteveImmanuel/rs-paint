{
 "cells": [
  {
   "cell_type": "code",
   "execution_count": 1,
   "metadata": {},
   "outputs": [],
   "source": [
    "from tqdm import tqdm\n",
    "import pickle\n",
    "import numpy as np\n",
    "import cv2\n",
    "import os\n",
    "import os.path as osp\n",
    "import shutil"
   ]
  },
  {
   "cell_type": "code",
   "execution_count": 2,
   "metadata": {},
   "outputs": [
    {
     "name": "stdout",
     "output_type": "stream",
     "text": [
      "35 helicopter\n"
     ]
    }
   ],
   "source": [
    "label2idx = {\n",
    "    'boeing747': 0,\n",
    "    'boeing737': 0,\n",
    "    'a321': 0,\n",
    "    'airplane': 0,\n",
    "    'a350': 0,\n",
    "    'boeing777': 0,\n",
    "    'c919': 0,\n",
    "    'a330': 0,\n",
    "    'other-airplane': 0,\n",
    "    'arj21': 0,\n",
    "    'a220': 0,\n",
    "    'plane': 0,\n",
    "    'boeing787': 0,\n",
    "    'engineering-ship': 1,\n",
    "    'other-ship': 1,\n",
    "    'ship': 1,\n",
    "    'passenger-ship': 2,\n",
    "    'dry-cargo-ship': 3,\n",
    "    'liquid-cargo-ship': 3,\n",
    "    'warship': 4,\n",
    "    'tugboat': 5,\n",
    "    'fishing-boat': 5,\n",
    "    'other-vehicle': 6,\n",
    "    'large-vehicle': 6,\n",
    "    'vehicle': 6,\n",
    "    'small-vehicle': 7,\n",
    "    'small-car': 7,\n",
    "    'bus': 8,\n",
    "    'tractor': 9,\n",
    "    'truck-tractor': 9,\n",
    "    'van': 10,\n",
    "    'trailer': 11,\n",
    "    'dump-truck': 12,\n",
    "    'cargo-truck': 13,\n",
    "    'golffield': 14,\n",
    "    'baseball-field': 15,\n",
    "    'baseballfield': 15,\n",
    "    'baseball-diamond': 15,\n",
    "    'soccer-ball-field': 16,\n",
    "    'football-field': 17,\n",
    "    'groundtrackfield': 18,\n",
    "    'ground-track-field': 18,\n",
    "    'basketballcourt': 19,\n",
    "    'basketball-court': 19,\n",
    "    'tennis-court': 20,\n",
    "    'tenniscourt': 20,\n",
    "    'storage-tank': 21,\n",
    "    'storagetank': 21,\n",
    "    'stadium': 22,\n",
    "    'dam': 23,\n",
    "    'intersection': 24,\n",
    "    'swimming-pool': 25,\n",
    "    'helipad': 26,\n",
    "    'harbor': 27,\n",
    "    'expressway-toll-station': 28,\n",
    "    'bridge': 29,\n",
    "    'chimney': 30,\n",
    "    'roundabout': 31,\n",
    "    'container-crane': 32,\n",
    "    'overpass': 33,\n",
    "    'motorboat': 34,\n",
    "    'helicopter': 35,\n",
    "    'expressway-service-area': 36,\n",
    "    'trainstation': 37,\n",
    "    'excavator': 38,\n",
    "    'windmill': 39,\n",
    "    'airport': 40,\n",
    "}\n",
    "\n",
    "idx2label = ['airplane', 'ship', 'passenger ship', 'cargo ship', 'warship', 'boat', 'car', 'small car', 'bus', 'tractor', 'van', 'trailer', 'dump truck', 'cargo truck', 'golf field', 'baseball field', 'soccer field', 'football field', 'ground track field', 'basketball court', 'tennis court', 'storage tank', 'stadium', 'dam', 'intersection', 'swimming pool', 'helipad', 'harbor', 'expressway toll station', 'bridge', 'chimney', 'roundabout', 'container crane', 'overpass', 'motorboat', 'helicopter', 'expressway service area', 'train station', 'excavator', 'windmill', 'airport']\n",
    "idx2label = {i: l for i, l in enumerate(idx2label)}\n",
    "\n",
    "print(label2idx['helicopter'], idx2label[35])"
   ]
  },
  {
   "cell_type": "code",
   "execution_count": 29,
   "metadata": {},
   "outputs": [],
   "source": [
    "def extract_bbox(root_path, out_path):\n",
    "    corrupted_files = []\n",
    "    os.makedirs(out_path, exist_ok=True)\n",
    "\n",
    "    for path in tqdm(os.listdir(osp.join(root_path, 'ins'))):\n",
    "        if not path.endswith('.pkl'):\n",
    "            continue\n",
    "\n",
    "        label = pickle.load(open(osp.join(root_path, 'ins', path), 'rb'))\n",
    "        with open(osp.join(out_path, path.replace('.pkl', '.txt')), 'w') as f:\n",
    "            try:\n",
    "                for object in label:\n",
    "                    if 'bbox' in object:\n",
    "                        bbox = object['bbox'].astype(int)\n",
    "                    elif 'rhbox' in object:\n",
    "                        bbox = object['rhbox'].astype(int)\n",
    "                    \n",
    "                    h, w = object['mask']['size']\n",
    "                    bbox[0] = max(0, bbox[0])\n",
    "                    bbox[1] = max(0, bbox[1])\n",
    "                    bbox[2] = min(w, bbox[2])\n",
    "                    bbox[3] = min(h, bbox[3])\n",
    "                    \n",
    "                    category = object['category'].lower()\n",
    "                    class_idx = label2idx[category]\n",
    "\n",
    "                    f.write(f'{class_idx} {bbox[0]} {bbox[1]} {bbox[2]} {bbox[3]}\\n')\n",
    "            except Exception as e:\n",
    "                corrupted_files.append(path)\n",
    "    return corrupted_files"
   ]
  },
  {
   "cell_type": "code",
   "execution_count": 14,
   "metadata": {},
   "outputs": [
    {
     "name": "stderr",
     "output_type": "stream",
     "text": [
      "100%|██████████████████████████████████████████████████| 23463/23463 [00:01<00:00, 13512.25it/s]"
     ]
    },
    {
     "name": "stdout",
     "output_type": "stream",
     "text": [
      "[]\n"
     ]
    },
    {
     "name": "stderr",
     "output_type": "stream",
     "text": [
      "\n"
     ]
    }
   ],
   "source": [
    "corrupted_files = extract_bbox('/home/hjh/dataset/SAMRS/SIOR', '/home/hjh/dataset/SAMRS/SIOR/bbox')\n",
    "print(corrupted_files)\n",
    "for file in corrupted_files:\n",
    "    if  osp.exists(osp.join('/home/hjh/dataset/SAMRS/SIOR/bbox', file.replace('.pkl', '.txt'))):\n",
    "        os.remove(osp.join('/home/hjh/dataset/SAMRS/SIOR/bbox', file.replace('.pkl', '.txt')))"
   ]
  },
  {
   "cell_type": "code",
   "execution_count": 27,
   "metadata": {},
   "outputs": [
    {
     "name": "stderr",
     "output_type": "stream",
     "text": [
      "100%|██████████████████████████████████████████████████| 64147/64147 [00:06<00:00, 10460.73it/s]"
     ]
    },
    {
     "name": "stdout",
     "output_type": "stream",
     "text": [
      "[]\n"
     ]
    },
    {
     "name": "stderr",
     "output_type": "stream",
     "text": [
      "\n"
     ]
    }
   ],
   "source": [
    "corrupted_files = extract_bbox('/home/hjh/dataset/SAMRS/FAST', '/home/hjh/dataset/SAMRS/FAST/bbox')\n",
    "print(corrupted_files)\n",
    "for file in corrupted_files:\n",
    "    if osp.exists(osp.join('/home/hjh/dataset/SAMRS/FAST/bbox', file.replace('.pkl', '.txt'))):\n",
    "        os.remove(osp.join('/home/hjh/dataset/SAMRS/FAST/bbox', file.replace('.pkl', '.txt')))"
   ]
  },
  {
   "cell_type": "code",
   "execution_count": null,
   "metadata": {},
   "outputs": [],
   "source": [
    "corrupted_files = extract_bbox('/home/hjh/dataset/SAMRS/SOTA', '/home/hjh/dataset/SAMRS/SOTA/bbox')\n",
    "print(corrupted_files)\n",
    "for file in corrupted_files:\n",
    "    if osp.exists(osp.join('/home/hjh/dataset/SAMRS/SOTA/label', file.replace('.pkl', '.txt'))):\n",
    "        os.remove(osp.join('/home/hjh/dataset/SAMRS/SOTA/label', file.replace('.pkl', '.txt')))"
   ]
  },
  {
   "cell_type": "code",
   "execution_count": 8,
   "metadata": {},
   "outputs": [],
   "source": [
    "all_samples = np.array(os.listdir('/home/hjh/dataset/SAMRS/paint/images'))\n",
    "np.random.shuffle(all_samples)"
   ]
  },
  {
   "cell_type": "code",
   "execution_count": 9,
   "metadata": {},
   "outputs": [
    {
     "name": "stdout",
     "output_type": "stream",
     "text": [
      "Train samples: 95090\n",
      "Val samples: 5000\n",
      "Test samples: 5000\n"
     ]
    }
   ],
   "source": [
    "test_samples = all_samples[-5000:]\n",
    "remaining_samples = all_samples[:-5000]\n",
    "val_samples = remaining_samples[-5000:]\n",
    "train_samples = remaining_samples[:-5000]\n",
    "print('Train samples:', len(train_samples))\n",
    "print('Val samples:', len(val_samples))\n",
    "print('Test samples:', len(test_samples))"
   ]
  },
  {
   "cell_type": "code",
   "execution_count": null,
   "metadata": {},
   "outputs": [
    {
     "name": "stderr",
     "output_type": "stream",
     "text": [
      "100%|██████████████████████████████████████████████████████| 95090/95090 [00:03<00:00, 25796.74it/s]\n"
     ]
    }
   ],
   "source": [
    "for path in tqdm(train_samples):\n",
    "    image_path = osp.join('/home/hjh/dataset/SAMRS/paint/images', path)\n",
    "    label_path = osp.join('/home/hjh/dataset/SAMRS/paint/bbox', path.replace('.png', '.txt').replace('.jpg', '.txt'))\n",
    "    if not osp.exists(image_path) or not osp.exists(label_path):\n",
    "        continue\n",
    "\n",
    "    dest_img_dir = '/home/hjh/dataset/SAMRS/paint/images/train'\n",
    "    dest_label_dir = '/home/hjh/dataset/SAMRS/paint/bbox/train'\n",
    "    os.makedirs(dest_img_dir, exist_ok=True)\n",
    "    os.makedirs(dest_label_dir, exist_ok=True)\n",
    "\n",
    "    dest_img = osp.join(dest_img_dir, path)\n",
    "    dest_label = osp.join(dest_label_dir, path.replace('.png', '.txt').replace('.jpg', '.txt'))\n",
    "\n",
    "    shutil.move(image_path, dest_img)\n",
    "    shutil.move(label_path, dest_label)"
   ]
  },
  {
   "cell_type": "code",
   "execution_count": null,
   "metadata": {},
   "outputs": [
    {
     "name": "stderr",
     "output_type": "stream",
     "text": [
      "100%|████████████████████████████████████████████████████████| 5000/5000 [00:00<00:00, 25694.38it/s]\n"
     ]
    }
   ],
   "source": [
    "for path in tqdm(val_samples):\n",
    "    image_path = osp.join('/home/hjh/dataset/SAMRS/paint/images', path)\n",
    "    label_path = osp.join('/home/hjh/dataset/SAMRS/paint/bbox', path.replace('.png', '.txt').replace('.jpg', '.txt'))\n",
    "    if not osp.exists(image_path) or not osp.exists(label_path):\n",
    "        continue\n",
    "\n",
    "    dest_img_dir = '/home/hjh/dataset/SAMRS/paint/images/validation'\n",
    "    dest_label_dir = '/home/hjh/dataset/SAMRS/paint/bbox/validation'\n",
    "    os.makedirs(dest_img_dir, exist_ok=True)\n",
    "    os.makedirs(dest_label_dir, exist_ok=True)\n",
    "\n",
    "    dest_img = osp.join(dest_img_dir, path)\n",
    "    dest_label = osp.join(dest_label_dir, path.replace('.png', '.txt').replace('.jpg', '.txt'))\n",
    "\n",
    "    shutil.move(image_path, dest_img)\n",
    "    shutil.move(label_path, dest_label)"
   ]
  },
  {
   "cell_type": "code",
   "execution_count": null,
   "metadata": {},
   "outputs": [
    {
     "name": "stderr",
     "output_type": "stream",
     "text": [
      "100%|████████████████████████████████████████████████████████| 5000/5000 [00:00<00:00, 25942.27it/s]\n"
     ]
    }
   ],
   "source": [
    "for path in tqdm(test_samples):\n",
    "    image_path = osp.join('/home/hjh/dataset/SAMRS/paint/images', path)\n",
    "    label_path = osp.join('/home/hjh/dataset/SAMRS/paint/bbox', path.replace('.png', '.txt').replace('.jpg', '.txt'))\n",
    "    if not osp.exists(image_path) or not osp.exists(label_path):\n",
    "        continue\n",
    "\n",
    "    dest_img_dir = '/home/hjh/dataset/SAMRS/paint/images/test'\n",
    "    dest_label_dir = '/home/hjh/dataset/SAMRS/paint/bbox/test'\n",
    "    os.makedirs(dest_img_dir, exist_ok=True)\n",
    "    os.makedirs(dest_label_dir, exist_ok=True)\n",
    "\n",
    "    dest_img = osp.join(dest_img_dir, path)\n",
    "    dest_label = osp.join(dest_label_dir, path.replace('.png', '.txt').replace('.jpg', '.txt'))\n",
    "\n",
    "    shutil.move(image_path, dest_img)\n",
    "    shutil.move(label_path, dest_label)"
   ]
  },
  {
   "cell_type": "code",
   "execution_count": 8,
   "metadata": {},
   "outputs": [
    {
     "name": "stderr",
     "output_type": "stream",
     "text": [
      "  8%|████▌                                                  | 7955/95090 [00:00<00:02, 39843.00it/s]"
     ]
    },
    {
     "name": "stdout",
     "output_type": "stream",
     "text": [
      "Invalid bbox: [0, 391, 0, 393] train_238_0001.txt\n"
     ]
    },
    {
     "name": "stderr",
     "output_type": "stream",
     "text": [
      " 34%|██████████████████▏                                   | 31928/95090 [00:00<00:01, 39639.56it/s]"
     ]
    },
    {
     "name": "stdout",
     "output_type": "stream",
     "text": [
      "Invalid bbox: [0, 557, 0, 559] train_83_0001.txt\n"
     ]
    },
    {
     "name": "stderr",
     "output_type": "stream",
     "text": [
      " 51%|███████████████████████████▍                          | 48394/95090 [00:01<00:01, 40057.92it/s]"
     ]
    },
    {
     "name": "stdout",
     "output_type": "stream",
     "text": [
      "Invalid bbox: [528, 485, 529, 485] 07007.txt\n"
     ]
    },
    {
     "name": "stderr",
     "output_type": "stream",
     "text": [
      " 72%|██████████████████████████████████████▊               | 68316/95090 [00:01<00:00, 39244.58it/s]"
     ]
    },
    {
     "name": "stdout",
     "output_type": "stream",
     "text": [
      "Invalid bbox: [162, 329, 162, 330] 04137.txt\n",
      "Invalid bbox: [69, 0, 81, 0] train_99_0000.txt\n"
     ]
    },
    {
     "name": "stderr",
     "output_type": "stream",
     "text": [
      " 88%|███████████████████████████████████████████████▋      | 83991/95090 [00:02<00:00, 38570.39it/s]"
     ]
    },
    {
     "name": "stdout",
     "output_type": "stream",
     "text": [
      "Invalid bbox: [138, 161, 138, 161] 16734.txt\n",
      "Invalid bbox: [1, 786, 1, 788] 08325.txt\n"
     ]
    },
    {
     "name": "stderr",
     "output_type": "stream",
     "text": [
      "100%|██████████████████████████████████████████████████████| 95090/95090 [00:02<00:00, 39322.75it/s]\n",
      "100%|████████████████████████████████████████████████████████| 5000/5000 [00:00<00:00, 38914.91it/s]\n",
      "100%|████████████████████████████████████████████████████████| 5000/5000 [00:00<00:00, 39608.51it/s]"
     ]
    },
    {
     "name": "stdout",
     "output_type": "stream",
     "text": [
      "Invalid bbox: [530, 330, 530, 330] 15504.txt\n",
      "Invalid bbox: [191, 535, 191, 535] 15906.txt\n",
      "['train_238_0001.txt', 'train_83_0001.txt', '07007.txt', '04137.txt', 'train_99_0000.txt', '16734.txt', '08325.txt', '15504.txt', '15906.txt']\n"
     ]
    },
    {
     "name": "stderr",
     "output_type": "stream",
     "text": [
      "\n"
     ]
    }
   ],
   "source": [
    "corrupted = []\n",
    "for label in tqdm(os.listdir('/home/hjh/dataset/SAMRS/paint/bbox/train')):\n",
    "    with open(osp.join('/home/hjh/dataset/SAMRS/paint/bbox/train', label), 'r') as f:\n",
    "        for line in f:\n",
    "            items = line.strip().split(' ')\n",
    "            class_idx = int(items[0])\n",
    "            bbox = list(map(int, items[1:]))\n",
    "            if bbox[0] >= bbox[2] or bbox[1] >= bbox[3]:\n",
    "                print('Invalid bbox:', bbox, label) \n",
    "                corrupted.append(label)\n",
    "                break\n",
    "\n",
    "for label in tqdm(os.listdir('/home/hjh/dataset/SAMRS/paint/bbox/validation')):\n",
    "    with open(osp.join('/home/hjh/dataset/SAMRS/paint/bbox/validation', label), 'r') as f:\n",
    "        for line in f:\n",
    "            items = line.strip().split(' ')\n",
    "            class_idx = int(items[0])\n",
    "            bbox = list(map(int, items[1:]))\n",
    "            if bbox[0] >= bbox[2] or bbox[1] >= bbox[3]:\n",
    "                print('Invalid bbox:', bbox, label) \n",
    "                corrupted.append(label)\n",
    "                break\n",
    "\n",
    "for label in tqdm(os.listdir('/home/hjh/dataset/SAMRS/paint/bbox/test')):\n",
    "    with open(osp.join('/home/hjh/dataset/SAMRS/paint/bbox/test', label), 'r') as f:\n",
    "        for line in f:\n",
    "            items = line.strip().split(' ')\n",
    "            class_idx = int(items[0])\n",
    "            bbox = list(map(int, items[1:]))\n",
    "            if bbox[0] >= bbox[2] or bbox[1] >= bbox[3]:\n",
    "                print('Invalid bbox:', bbox, label) \n",
    "                corrupted.append(label)\n",
    "                break\n",
    "\n",
    "print(corrupted)"
   ]
  }
 ],
 "metadata": {
  "kernelspec": {
   "display_name": "rspaint",
   "language": "python",
   "name": "rspaint"
  },
  "language_info": {
   "codemirror_mode": {
    "name": "ipython",
    "version": 3
   },
   "file_extension": ".py",
   "mimetype": "text/x-python",
   "name": "python",
   "nbconvert_exporter": "python",
   "pygments_lexer": "ipython3",
   "version": "3.8.5"
  }
 },
 "nbformat": 4,
 "nbformat_minor": 2
}
