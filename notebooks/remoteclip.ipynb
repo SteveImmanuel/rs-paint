{
 "cells": [
  {
   "cell_type": "code",
   "execution_count": 7,
   "metadata": {},
   "outputs": [],
   "source": [
    "from huggingface_hub import hf_hub_download\n",
    "import open_clip\n",
    "import torch"
   ]
  },
  {
   "cell_type": "code",
   "execution_count": 12,
   "metadata": {},
   "outputs": [
    {
     "name": "stdout",
     "output_type": "stream",
     "text": [
      "/home/hjh/rs-paint\n"
     ]
    }
   ],
   "source": [
    "%cd /home/hjh/rs-paint"
   ]
  },
  {
   "cell_type": "code",
   "execution_count": null,
   "metadata": {},
   "outputs": [],
   "source": [
    "model_name = 'ViT-L-14'\n",
    "checkpoint_path = hf_hub_download(\"chendelong/RemoteCLIP\", f\"RemoteCLIP-{model_name}.pt\", cache_dir='checkpoints')\n",
    "print(f'{model_name} is downloaded to {checkpoint_path}.')"
   ]
  },
  {
   "cell_type": "code",
   "execution_count": 40,
   "metadata": {},
   "outputs": [],
   "source": [
    "checkpoint_path = 'checkpoints/remoteclip.pt'"
   ]
  },
  {
   "cell_type": "code",
   "execution_count": 42,
   "metadata": {},
   "outputs": [],
   "source": [
    "model, _, preprocess = open_clip.create_model_and_transforms(model_name)"
   ]
  },
  {
   "cell_type": "code",
   "execution_count": 43,
   "metadata": {},
   "outputs": [
    {
     "name": "stdout",
     "output_type": "stream",
     "text": [
      "<All keys matched successfully>\n"
     ]
    }
   ],
   "source": [
    "ckpt = torch.load(checkpoint_path, map_location=\"cpu\")\n",
    "message = model.load_state_dict(ckpt)\n",
    "print(message)\n",
    "model = model.cuda().eval()"
   ]
  },
  {
   "cell_type": "code",
   "execution_count": 38,
   "metadata": {},
   "outputs": [
    {
     "name": "stdout",
     "output_type": "stream",
     "text": [
      "    def forward(self, x: torch.Tensor):\n",
      "        x = self.conv1(x)  # shape = [*, width, grid, grid]\n",
      "        x = x.reshape(x.shape[0], x.shape[1], -1)  # shape = [*, width, grid ** 2]\n",
      "        x = x.permute(0, 2, 1)  # shape = [*, grid ** 2, width]\n",
      "\n",
      "        # class embeddings and positional embeddings\n",
      "        x = torch.cat([_expand_token(self.class_embedding, x.shape[0]).to(x.dtype), x], dim=1)\n",
      "        # shape = [*, grid ** 2 + 1, width]\n",
      "        x = x + self.positional_embedding.to(x.dtype)\n",
      "\n",
      "        x = self.patch_dropout(x)\n",
      "        x = self.ln_pre(x)\n",
      "        x = self.transformer(x)\n",
      "\n",
      "        if self.attn_pool is not None:\n",
      "            if self.attn_pool_contrastive is not None:\n",
      "                # This is untested, WIP pooling that should match paper\n",
      "                x = self.ln_post(x)  # TBD LN first or separate one after each pool?\n",
      "                tokens = self.attn_pool(x)\n",
      "                if self.attn_pool_type == 'parallel':\n",
      "                    pooled = self.attn_pool_contrastive(x)\n",
      "                else:\n",
      "                    assert self.attn_pool_type == 'cascade'\n",
      "                    pooled = self.attn_pool_contrastive(tokens)\n",
      "            else:\n",
      "                # this is the original OpenCLIP CoCa setup, does not match paper\n",
      "                x = self.attn_pool(x)\n",
      "                x = self.ln_post(x)\n",
      "                pooled, tokens = self._global_pool(x)\n",
      "        elif self.final_ln_after_pool:\n",
      "            pooled, tokens = self._global_pool(x)\n",
      "            pooled = self.ln_post(pooled)\n",
      "        else:\n",
      "            x = self.ln_post(x)\n",
      "            pooled, tokens = self._global_pool(x)\n",
      "\n",
      "        if self.proj is not None:\n",
      "            pooled = pooled @ self.proj\n",
      "\n",
      "        if self.output_tokens:\n",
      "            return pooled, tokens\n",
      "        \n",
      "        return pooled\n",
      "\n",
      "    def _global_pool(self, x: torch.Tensor) -> Tuple[torch.Tensor, torch.Tensor]:\n",
      "        if self.pool_type == 'avg':\n",
      "            pooled, tokens = x[:, 1:].mean(dim=1), x[:, 1:]\n",
      "        elif self.pool_type == 'tok':\n",
      "            pooled, tokens = x[:, 0], x[:, 1:]\n",
      "        else:\n",
      "            pooled = tokens = x\n",
      "\n",
      "        return pooled, tokens\n",
      "\n"
     ]
    },
    {
     "data": {
      "text/plain": [
       "'tok'"
      ]
     },
     "execution_count": 38,
     "metadata": {},
     "output_type": "execute_result"
    }
   ],
   "source": [
    "import inspect\n",
    "\n",
    "print(inspect.getsource(model.visual.forward))\n",
    "print(inspect.getsource(model.visual._global_pool))\n",
    "model.visual.pool_type"
   ]
  },
  {
   "cell_type": "code",
   "execution_count": 39,
   "metadata": {},
   "outputs": [
    {
     "data": {
      "text/plain": [
       "torch.Size([1, 1024])"
      ]
     },
     "execution_count": 39,
     "metadata": {},
     "output_type": "execute_result"
    }
   ],
   "source": [
    "img = torch.randn(1, 3, 224, 224).cuda()\n",
    "model.visual.proj = None\n",
    "out = model.visual(img)\n",
    "out.shape"
   ]
  }
 ],
 "metadata": {
  "kernelspec": {
   "display_name": "rspaint",
   "language": "python",
   "name": "rspaint"
  },
  "language_info": {
   "codemirror_mode": {
    "name": "ipython",
    "version": 3
   },
   "file_extension": ".py",
   "mimetype": "text/x-python",
   "name": "python",
   "nbconvert_exporter": "python",
   "pygments_lexer": "ipython3",
   "version": "3.8.5"
  }
 },
 "nbformat": 4,
 "nbformat_minor": 2
}
